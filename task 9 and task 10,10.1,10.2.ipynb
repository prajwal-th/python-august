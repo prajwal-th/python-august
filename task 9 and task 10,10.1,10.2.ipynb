{
 "cells": [
  {
   "cell_type": "code",
   "execution_count": 5,
   "id": "412ed3be",
   "metadata": {},
   "outputs": [
    {
     "name": "stdout",
     "output_type": "stream",
     "text": [
      "enter a first number = 1\n",
      "enter a second number = 2\n",
      "press 1 for addition,2 for subtraction,3 for multiplication and 4 for division = 1\n",
      "the sum is 3\n"
     ]
    }
   ],
   "source": [
    "num1=int(input(\"enter a first number = \"))\n",
    "num2=int(input(\"enter a second number = \"))\n",
    "operator=int(input(\"press 1 for addition,2 for subtraction,3 for multiplication and 4 for division = \"))\n",
    "if (operator == 1):\n",
    "    sum=num1+num2\n",
    "    print(\"the sum is {}\".format(sum))\n",
    "elif(operator == 2):\n",
    "    sub=num1-num2\n",
    "    print(\"the sub value is {}\".format(sub))\n",
    "elif(operator == 3):\n",
    "    mul=num1*num2\n",
    "    print(\"the mul value is {}\".format(mul))\n",
    "elif(operator == 4):\n",
    "    division=num1%num2\n",
    "    print(\"the division value is {}\".format(division))   \n",
    "else:\n",
    "    print(\"select a correct operation\")\n"
   ]
  },
  {
   "cell_type": "code",
   "execution_count": 11,
   "id": "7dcb1b0c",
   "metadata": {},
   "outputs": [],
   "source": [
    "#task 10.2\n",
    "'''pass keyword does nothing but you can avoid getting an error when empty code is not allowed. \n",
    "Empty code is not allowed in loops,if else conditions,functions,Classes etc'''\n",
    "\n",
    "if(num1>2):\n",
    "   "
   ]
  },
  {
   "cell_type": "code",
   "execution_count": 15,
   "id": "4e73f071",
   "metadata": {},
   "outputs": [],
   "source": [
    "def fun(num1,num2):\n",
    "    "
   ]
  },
  {
   "cell_type": "code",
   "execution_count": 14,
   "id": "a99f8fe1",
   "metadata": {},
   "outputs": [],
   "source": [
    "for i in range(10):\n",
    "    "
   ]
  },
  {
   "cell_type": "code",
   "execution_count": 16,
   "id": "796621f4",
   "metadata": {},
   "outputs": [
    {
     "name": "stdout",
     "output_type": "stream",
     "text": [
      "0\n",
      "1\n",
      "2\n",
      "4\n",
      "5\n",
      "6\n",
      "7\n",
      "8\n"
     ]
    }
   ],
   "source": [
    "#task 10.1\n",
    "#The continue keyword is used to end the current iteration in a for loop (or a while loop), and continues to the next iteration.\n",
    "for i in range(9):\n",
    "  if i == 3:\n",
    "    continue\n",
    "  print(i)\n"
   ]
  },
  {
   "cell_type": "code",
   "execution_count": 17,
   "id": "3cf1053f",
   "metadata": {},
   "outputs": [
    {
     "name": "stdout",
     "output_type": "stream",
     "text": [
      "1\n",
      "3\n",
      "4\n",
      "5\n",
      "6\n",
      "7\n",
      "8\n",
      "9\n"
     ]
    }
   ],
   "source": [
    "i = 0\n",
    "while i < 9:\n",
    "  i += 1\n",
    "  if i == 2:\n",
    "    continue\n",
    "  print(i)\n"
   ]
  },
  {
   "cell_type": "code",
   "execution_count": 21,
   "id": "c9c3bfbf",
   "metadata": {},
   "outputs": [
    {
     "name": "stdout",
     "output_type": "stream",
     "text": [
      "10\n",
      "9\n",
      "8\n",
      "7\n",
      "6\n",
      "5\n",
      "4\n",
      "3\n",
      "2\n",
      "1\n"
     ]
    }
   ],
   "source": [
    "#task 10\n",
    "#using while loop print numbers from 10 to 1\n",
    "i=10\n",
    "while(i>=1):\n",
    "    print(i)\n",
    "    i-=1"
   ]
  },
  {
   "cell_type": "code",
   "execution_count": 23,
   "id": "9809e5b0",
   "metadata": {},
   "outputs": [
    {
     "name": "stdout",
     "output_type": "stream",
     "text": [
      "1\n",
      "2\n",
      "3\n",
      "4\n"
     ]
    }
   ],
   "source": [
    "#try using for loop to loop over tuples,sets and dictionaries\n",
    "set={1,2,3,\"4\"}\n",
    "for i in set:\n",
    "    print(i)"
   ]
  },
  {
   "cell_type": "code",
   "execution_count": 26,
   "id": "b4ad933a",
   "metadata": {},
   "outputs": [
    {
     "name": "stdout",
     "output_type": "stream",
     "text": [
      "1\n",
      "4\n",
      "0\n",
      "True\n",
      "hello\n"
     ]
    }
   ],
   "source": [
    "list=[1,4,0,True,\"hello\"]\n",
    "for z in list:\n",
    "    print(z)\n",
    "    "
   ]
  },
  {
   "cell_type": "code",
   "execution_count": 36,
   "id": "fe6b2c9d",
   "metadata": {},
   "outputs": [
    {
     "name": "stdout",
     "output_type": "stream",
     "text": [
      "1\n",
      "2\n",
      "3\n"
     ]
    }
   ],
   "source": [
    "dict = {\n",
    "    1:\"hello\",\n",
    "    2:\"hi\",\n",
    "    3:\"davangere\"\n",
    "}\n",
    "for i in dict.keys():\n",
    "    print(i)"
   ]
  },
  {
   "cell_type": "code",
   "execution_count": 35,
   "id": "94edf311",
   "metadata": {},
   "outputs": [
    {
     "name": "stdout",
     "output_type": "stream",
     "text": [
      "Bajaj\n",
      "Pulsar\n",
      "2015\n",
      "85000\n"
     ]
    }
   ],
   "source": [
    "dict1 = {\n",
    "    \"Brand\":\"Bajaj\",\n",
    "    \"model\":\"Pulsar\",\n",
    "    \"year\":2015,\n",
    "    \"cost\":85000\n",
    "}\n",
    "for i in dict1.values():\n",
    "    print(i)"
   ]
  },
  {
   "cell_type": "code",
   "execution_count": 37,
   "id": "7810c3e9",
   "metadata": {},
   "outputs": [
    {
     "name": "stdout",
     "output_type": "stream",
     "text": [
      "('Brand', 'Bajaj')\n",
      "('model', 'Pulsar')\n",
      "('year', 2015)\n",
      "('cost', 85000)\n"
     ]
    }
   ],
   "source": [
    "dict1 = {\n",
    "    \"Brand\":\"Bajaj\",\n",
    "    \"model\":\"Pulsar\",\n",
    "    \"year\":2015,\n",
    "    \"cost\":85000\n",
    "}\n",
    "for i in dict1.items():\n",
    "    print(i)"
   ]
  },
  {
   "cell_type": "code",
   "execution_count": null,
   "id": "84ea8147",
   "metadata": {},
   "outputs": [],
   "source": []
  }
 ],
 "metadata": {
  "kernelspec": {
   "display_name": "Python 3",
   "language": "python",
   "name": "python3"
  }
 },
 "nbformat": 4,
 "nbformat_minor": 5
}
