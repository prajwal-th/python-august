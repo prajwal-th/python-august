{
 "cells": [
  {
   "cell_type": "code",
   "execution_count": 1,
   "id": "e7ba9958",
   "metadata": {},
   "outputs": [],
   "source": [
    "#return keyword\n",
    "#task 11.1\n",
    "'''A return statement is used to end the execution of the function call and “returns”\n",
    "the result (value of the expression following the return keyword) to the caller.\n",
    "The statements after the return statements are not executed. If the return statement is without any expression,\n",
    "then the special value None is returned. '''"
   ]
  },
  {
   "cell_type": "code",
   "execution_count": 1,
   "id": "7f04634c",
   "metadata": {},
   "outputs": [
    {
     "name": "stdout",
     "output_type": "stream",
     "text": [
      "prajwal\n",
      "20\n"
     ]
    }
   ],
   "source": [
    "def fun():\n",
    "    str = \"prajwal\"\n",
    "    x = 20\n",
    "    return str, x;\n",
    "str, x = fun() \n",
    "print(str)\n",
    "print(x)"
   ]
  },
  {
   "cell_type": "code",
   "execution_count": 15,
   "id": "2f327082",
   "metadata": {},
   "outputs": [
    {
     "name": "stdout",
     "output_type": "stream",
     "text": [
      "enter a number1 3\n",
      "enter a number2 1\n",
      "press 1 for addition,2 for subtraction,3 for multiplication and 4 for divisionf\n",
      "select the correct operation\n"
     ]
    }
   ],
   "source": [
    "#task 11.2\n",
    "'''Ask 2 numbers from users and store it in num1 and num2\n",
    "Ask user to press 1 for addition,2 for subtraction,3 for multiplication and 4 for division\n",
    "create 4 seperate functions for each operation (i.e. addition,subtraction,multiplication and division)\n",
    "based on number given by user,call that perticular function and print the output'''\n",
    "\n",
    "num1=int(input(\"enter a number1 \"))\n",
    "num2=int(input(\"enter a number2 \"))\n",
    "option=input(\"press 1 for addition,2 for subtraction,3 for multiplication and 4 for division\")\n",
    "\n",
    "def add(num1,num2):\n",
    "    add=num1+num2\n",
    "    print(\"sum is {}\".format(add))\n",
    "def sub(num1,num2):\n",
    "    sub=num1-num2\n",
    "    print(\"sub is {}\".format(sub))\n",
    "def mul(num1,num2):\n",
    "    mul=num1*num2\n",
    "    print(\"mul is {}\".format(mul))\n",
    "def div(num1,num2):\n",
    "    print(\"div is {}\".format(div))\n",
    "    \n",
    "if(option==\"1\"):\n",
    "    add(num1,num2)\n",
    "elif(option==\"2\"):\n",
    "    sub(num1,num2)\n",
    "elif(option==\"3\"):\n",
    "    mul(num1,num2)\n",
    "elif(option==\"4\"):\n",
    "    div(num1/num2)\n",
    "else:\n",
    "    print(\"select the correct operation\")\n",
    "\n",
    "    \n",
    "\n"
   ]
  },
  {
   "cell_type": "code",
   "execution_count": 17,
   "id": "b5a91607",
   "metadata": {},
   "outputs": [
    {
     "name": "stdout",
     "output_type": "stream",
     "text": [
      "Value of y global =  1000\n",
      "Value of y in func1=  100\n"
     ]
    }
   ],
   "source": [
    "y = 1000\n",
    "\n",
    "def func1():\n",
    "    y = 100\n",
    "    print('Value of y in func1= ', y )\n",
    "    \n",
    "    def func2():\n",
    "        y = 10\n",
    "        print('Value of y in func2= ', y )\n",
    "        \n",
    "        def func3():\n",
    "            y = 1\n",
    "            print('Value of y = ', y )\n",
    "        \n",
    "        func3()\n",
    "    \n",
    "    func2()\n",
    "    \n",
    "print('Value of y global = ', y )\n",
    "func1()"
   ]
  },
  {
   "cell_type": "code",
   "execution_count": null,
   "id": "aa7db5c6",
   "metadata": {},
   "outputs": [],
   "source": []
  }
 ],
 "metadata": {
  "kernelspec": {
   "display_name": "Python 3",
   "language": "python",
   "name": "python3"
  },
  "language_info": {
   "codemirror_mode": {
    "name": "ipython",
    "version": 3
   },
   "file_extension": ".py",
   "mimetype": "text/x-python",
   "name": "python",
   "nbconvert_exporter": "python",
   "pygments_lexer": "ipython3",
   "version": "3.8.8"
  }
 },
 "nbformat": 4,
 "nbformat_minor": 5
}
