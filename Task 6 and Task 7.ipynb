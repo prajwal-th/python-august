{
 "cells": [
  {
   "cell_type": "code",
   "execution_count": 1,
   "id": "f666dbd7",
   "metadata": {},
   "outputs": [],
   "source": [
    "#task 6\n",
    "tuple=(1,2,37,9)"
   ]
  },
  {
   "cell_type": "code",
   "execution_count": 2,
   "id": "99194140",
   "metadata": {},
   "outputs": [
    {
     "name": "stdout",
     "output_type": "stream",
     "text": [
      "(1, 2, 37, 9)\n"
     ]
    }
   ],
   "source": [
    "print(tuple)"
   ]
  },
  {
   "cell_type": "code",
   "execution_count": 3,
   "id": "a463dce6",
   "metadata": {},
   "outputs": [],
   "source": [
    "list1=list(tuple)"
   ]
  },
  {
   "cell_type": "code",
   "execution_count": 4,
   "id": "dc9e578d",
   "metadata": {},
   "outputs": [
    {
     "data": {
      "text/plain": [
       "9"
      ]
     },
     "execution_count": 4,
     "metadata": {},
     "output_type": "execute_result"
    }
   ],
   "source": [
    "list1.pop()"
   ]
  },
  {
   "cell_type": "code",
   "execution_count": 7,
   "id": "a21149d2",
   "metadata": {},
   "outputs": [],
   "source": [
    "list1.insert(2,3)"
   ]
  },
  {
   "cell_type": "code",
   "execution_count": 8,
   "id": "0d12b10b",
   "metadata": {},
   "outputs": [
    {
     "name": "stdout",
     "output_type": "stream",
     "text": [
      "[1, 2, 3, 37]\n"
     ]
    }
   ],
   "source": [
    "print(list1)"
   ]
  },
  {
   "cell_type": "code",
   "execution_count": 11,
   "id": "0881291b",
   "metadata": {},
   "outputs": [],
   "source": [
    "#Task 7\n",
    "p = {10, 20, 30, 40, 80}\n",
    "r = {100, 30, 80, 40, 60}"
   ]
  },
  {
   "cell_type": "code",
   "execution_count": 12,
   "id": "4783b314",
   "metadata": {},
   "outputs": [
    {
     "name": "stdout",
     "output_type": "stream",
     "text": [
      "{100, 60}\n",
      "{10, 20}\n"
     ]
    }
   ],
   "source": [
    "print (r.difference(p))\n",
    "print (p.difference(r))"
   ]
  },
  {
   "cell_type": "code",
   "execution_count": 13,
   "id": "0237a439",
   "metadata": {},
   "outputs": [
    {
     "data": {
      "text/plain": [
       "{1, 2, 3, 7, 8, 9}"
      ]
     },
     "execution_count": 13,
     "metadata": {},
     "output_type": "execute_result"
    }
   ],
   "source": [
    "#symmetric_difference()\n",
    "#consider two sets the symmetric difference can be defined as the element except intersection elements.\n",
    "# which is equal to the elements present in either of the two sets, but not common to both the sets.\n",
    "a={1,2,3,4,5,6}\n",
    "b={4,5,6,7,8,9}\n",
    "a.symmetric_difference(b)"
   ]
  },
  {
   "cell_type": "code",
   "execution_count": null,
   "id": "699052b3",
   "metadata": {},
   "outputs": [],
   "source": []
  }
 ],
 "metadata": {
  "kernelspec": {
   "display_name": "Python 3",
   "language": "python",
   "name": "python3"
  },
  "language_info": {
   "codemirror_mode": {
    "name": "ipython",
    "version": 3
   },
   "file_extension": ".py",
   "mimetype": "text/x-python",
   "name": "python",
   "nbconvert_exporter": "python",
   "pygments_lexer": "ipython3",
   "version": "3.8.8"
  }
 },
 "nbformat": 4,
 "nbformat_minor": 5
}
