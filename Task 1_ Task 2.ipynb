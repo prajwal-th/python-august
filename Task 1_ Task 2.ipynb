{
 "cells": [
  {
   "cell_type": "code",
   "execution_count": 17,
   "id": "1da75066",
   "metadata": {},
   "outputs": [
    {
     "name": "stdout",
     "output_type": "stream",
     "text": [
      "GROWTH\n"
     ]
    }
   ],
   "source": [
    "# .upper()\n",
    "a=\"growth\"\n",
    "print(a.upper())# converts string into upper case"
   ]
  },
  {
   "cell_type": "code",
   "execution_count": 18,
   "id": "1bddfcf9",
   "metadata": {},
   "outputs": [
    {
     "name": "stdout",
     "output_type": "stream",
     "text": [
      "growth\n"
     ]
    }
   ],
   "source": [
    "print(a.lower())# converts string into lower case"
   ]
  },
  {
   "cell_type": "code",
   "execution_count": 34,
   "id": "cac7834f",
   "metadata": {},
   "outputs": [
    {
     "name": "stdout",
     "output_type": "stream",
     "text": [
      "Growth\n"
     ]
    }
   ],
   "source": [
    "print(a.capitalize())# converts first character into upper case"
   ]
  },
  {
   "cell_type": "code",
   "execution_count": 39,
   "id": "ac738e77",
   "metadata": {},
   "outputs": [
    {
     "name": "stdout",
     "output_type": "stream",
     "text": [
      "growth\n"
     ]
    }
   ],
   "source": [
    "b=a.capitalize()\n",
    "print(b.casefold())# converts first character into lower case"
   ]
  },
  {
   "cell_type": "code",
   "execution_count": 40,
   "id": "6a0e4f29",
   "metadata": {},
   "outputs": [
    {
     "name": "stdout",
     "output_type": "stream",
     "text": [
      "False\n"
     ]
    }
   ],
   "source": [
    "print(a.isupper())# returns True if all character upper case"
   ]
  },
  {
   "cell_type": "code",
   "execution_count": 37,
   "id": "38ba9b34",
   "metadata": {},
   "outputs": [
    {
     "name": "stdout",
     "output_type": "stream",
     "text": [
      "True\n"
     ]
    }
   ],
   "source": [
    "print(a.islower())# returns True if all character lower case"
   ]
  },
  {
   "cell_type": "code",
   "execution_count": 52,
   "id": "3f28caca",
   "metadata": {},
   "outputs": [
    {
     "name": "stdout",
     "output_type": "stream",
     "text": [
      "True\n"
     ]
    }
   ],
   "source": [
    "c=\"1232\"\n",
    "print(c.isdecimal()) # return True if string contain a number"
   ]
  },
  {
   "cell_type": "code",
   "execution_count": 43,
   "id": "56c56e00",
   "metadata": {},
   "outputs": [
    {
     "name": "stdout",
     "output_type": "stream",
     "text": [
      "apple\n"
     ]
    }
   ],
   "source": [
    "d=\"banana\"\n",
    "f=d.replace(\"banana\",\"apple\")# replace a particular string by specified string\n",
    "print(f)"
   ]
  },
  {
   "cell_type": "code",
   "execution_count": 44,
   "id": "f5c7a63b",
   "metadata": {},
   "outputs": [
    {
     "name": "stdout",
     "output_type": "stream",
     "text": [
      "True\n"
     ]
    }
   ],
   "source": [
    "d=\"prajwal\"\n",
    "print(d.startswith(\"p\"))#returns true if the string starts with the specified value\n"
   ]
  },
  {
   "cell_type": "code",
   "execution_count": 45,
   "id": "47e75ff8",
   "metadata": {},
   "outputs": [
    {
     "name": "stdout",
     "output_type": "stream",
     "text": [
      "False\n"
     ]
    }
   ],
   "source": [
    "print(d.endswith(\"q\"))#returns true if the string ends with the specified value"
   ]
  },
  {
   "cell_type": "code",
   "execution_count": 50,
   "id": "6b24b4d4",
   "metadata": {},
   "outputs": [
    {
     "name": "stdout",
     "output_type": "stream",
     "text": [
      "8\n"
     ]
    }
   ],
   "source": [
    "#Task 2\n",
    "# check if \"to\" is present in \"welcome to python\"\n",
    "str1 = \"Welcome to python\"# if substring present than return a position orelse return -1\n",
    "print(str1.find(\"to\"))"
   ]
  },
  {
   "cell_type": "code",
   "execution_count": null,
   "id": "08b12564",
   "metadata": {},
   "outputs": [],
   "source": []
  }
 ],
 "metadata": {
  "kernelspec": {
   "display_name": "Python 3",
   "language": "python",
   "name": "python3"
  },
  "language_info": {
   "codemirror_mode": {
    "name": "ipython",
    "version": 3
   },
   "file_extension": ".py",
   "mimetype": "text/x-python",
   "name": "python",
   "nbconvert_exporter": "python",
   "pygments_lexer": "ipython3",
   "version": "3.8.8"
  }
 },
 "nbformat": 4,
 "nbformat_minor": 5
}
